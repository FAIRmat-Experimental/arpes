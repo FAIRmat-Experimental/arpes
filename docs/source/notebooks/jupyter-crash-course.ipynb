{
 "cells": [
  {
   "cell_type": "code",
   "execution_count": null,
   "id": "66c0a273-3d00-4284-b787-d5e502c1de08",
   "metadata": {
    "nbsphinx": "hidden",
    "tags": [
     "nbconvert-hide"
    ]
   },
   "outputs": [],
   "source": [
    "\"\"\"nbconvert header\n",
    "\n",
    "We are just configuring to hide some unnecessary warnings.\n",
    "\"\"\"\n",
    "\n",
    "import arpes.config\n",
    "arpes.config.DOCS_BUILD = True"
   ]
  },
  {
   "cell_type": "markdown",
   "id": "b85bc710-17df-4986-a0ba-d6dd4cfdf5cc",
   "metadata": {},
   "source": [
    "# Jupyter Crash Course"
   ]
  },
  {
   "cell_type": "markdown",
   "id": "93abe7e0-ca10-4ecb-a184-03111718efde",
   "metadata": {},
   "source": [
    "## Getting Documentation\n",
    "\n",
    "Jupyter uses the IPython kernel when you work with PyARPES. IPython has many conveniences, like allowing you to quickly get the documentation (with ?) or source code of a function (with ??)."
   ]
  },
  {
   "cell_type": "code",
   "execution_count": 26,
   "id": "b7754bac-4d18-4e8f-844d-97a116ef70f1",
   "metadata": {},
   "outputs": [
    {
     "data": {
      "text/plain": [
       "\u001b[1;31mSignature:\u001b[0m\n",
       "\u001b[0mpprint\u001b[0m\u001b[1;33m.\u001b[0m\u001b[0mpprint\u001b[0m\u001b[1;33m(\u001b[0m\u001b[1;33m\n",
       "\u001b[0m    \u001b[0mobject\u001b[0m\u001b[1;33m,\u001b[0m\u001b[1;33m\n",
       "\u001b[0m    \u001b[0mstream\u001b[0m\u001b[1;33m=\u001b[0m\u001b[1;32mNone\u001b[0m\u001b[1;33m,\u001b[0m\u001b[1;33m\n",
       "\u001b[0m    \u001b[0mindent\u001b[0m\u001b[1;33m=\u001b[0m\u001b[1;36m1\u001b[0m\u001b[1;33m,\u001b[0m\u001b[1;33m\n",
       "\u001b[0m    \u001b[0mwidth\u001b[0m\u001b[1;33m=\u001b[0m\u001b[1;36m80\u001b[0m\u001b[1;33m,\u001b[0m\u001b[1;33m\n",
       "\u001b[0m    \u001b[0mdepth\u001b[0m\u001b[1;33m=\u001b[0m\u001b[1;32mNone\u001b[0m\u001b[1;33m,\u001b[0m\u001b[1;33m\n",
       "\u001b[0m    \u001b[1;33m*\u001b[0m\u001b[1;33m,\u001b[0m\u001b[1;33m\n",
       "\u001b[0m    \u001b[0mcompact\u001b[0m\u001b[1;33m=\u001b[0m\u001b[1;32mFalse\u001b[0m\u001b[1;33m,\u001b[0m\u001b[1;33m\n",
       "\u001b[0m    \u001b[0msort_dicts\u001b[0m\u001b[1;33m=\u001b[0m\u001b[1;32mTrue\u001b[0m\u001b[1;33m,\u001b[0m\u001b[1;33m\n",
       "\u001b[0m\u001b[1;33m)\u001b[0m\u001b[1;33m\u001b[0m\u001b[1;33m\u001b[0m\u001b[0m\n",
       "\u001b[1;31mDocstring:\u001b[0m Pretty-print a Python object to a stream [default is sys.stdout].\n",
       "\u001b[1;31mFile:\u001b[0m      c:\\tools\\miniconda3\\envs\\arpes-verify-2\\lib\\pprint.py\n",
       "\u001b[1;31mType:\u001b[0m      function\n"
      ]
     },
     "metadata": {},
     "output_type": "display_data"
    }
   ],
   "source": [
    "import pprint\n",
    "\n",
    "# Look at help information for the library function `pprint.pprint`\n",
    "pprint.pprint?"
   ]
  },
  {
   "cell_type": "markdown",
   "id": "2607474f-a880-4dda-aff1-bf977322b919",
   "metadata": {},
   "source": [
    "You can use this with library functions, PyARPES funtions, or your own."
   ]
  },
  {
   "cell_type": "code",
   "execution_count": 25,
   "id": "bcd23c6b-0492-45ac-b063-9f4be90a4121",
   "metadata": {},
   "outputs": [
    {
     "data": {
      "text/plain": [
       "\u001b[1;31mSignature:\u001b[0m \u001b[0mload_example_data\u001b[0m\u001b[1;33m(\u001b[0m\u001b[0mexample_name\u001b[0m\u001b[1;33m=\u001b[0m\u001b[1;34m'cut'\u001b[0m\u001b[1;33m)\u001b[0m \u001b[1;33m->\u001b[0m \u001b[0mxarray\u001b[0m\u001b[1;33m.\u001b[0m\u001b[0mcore\u001b[0m\u001b[1;33m.\u001b[0m\u001b[0mdataset\u001b[0m\u001b[1;33m.\u001b[0m\u001b[0mDataset\u001b[0m\u001b[1;33m\u001b[0m\u001b[1;33m\u001b[0m\u001b[0m\n",
       "\u001b[1;31mSource:\u001b[0m   \n",
       "\u001b[1;32mdef\u001b[0m \u001b[0mload_example_data\u001b[0m\u001b[1;33m(\u001b[0m\u001b[0mexample_name\u001b[0m\u001b[1;33m=\u001b[0m\u001b[1;34m\"cut\"\u001b[0m\u001b[1;33m)\u001b[0m \u001b[1;33m->\u001b[0m \u001b[0mxr\u001b[0m\u001b[1;33m.\u001b[0m\u001b[0mDataset\u001b[0m\u001b[1;33m:\u001b[0m\u001b[1;33m\n",
       "\u001b[0m    \u001b[1;34m\"\"\"Provides sample data for executable documentation.\"\"\"\u001b[0m\u001b[1;33m\n",
       "\u001b[0m    \u001b[1;32mif\u001b[0m \u001b[0mexample_name\u001b[0m \u001b[1;32mnot\u001b[0m \u001b[1;32min\u001b[0m \u001b[0mDATA_EXAMPLES\u001b[0m\u001b[1;33m:\u001b[0m\u001b[1;33m\n",
       "\u001b[0m        \u001b[0mwarnings\u001b[0m\u001b[1;33m.\u001b[0m\u001b[0mwarn\u001b[0m\u001b[1;33m(\u001b[0m\u001b[1;33m\n",
       "\u001b[0m            \u001b[1;34mf\"Could not find requested example_name: {example_name}. Please provide one of {list(DATA_EXAMPLES.keys())}\"\u001b[0m\u001b[1;33m\n",
       "\u001b[0m        \u001b[1;33m)\u001b[0m\u001b[1;33m\n",
       "\u001b[0m\u001b[1;33m\n",
       "\u001b[0m    \u001b[0mlocation\u001b[0m\u001b[1;33m,\u001b[0m \u001b[0mexample\u001b[0m \u001b[1;33m=\u001b[0m \u001b[0mDATA_EXAMPLES\u001b[0m\u001b[1;33m[\u001b[0m\u001b[0mexample_name\u001b[0m\u001b[1;33m]\u001b[0m\u001b[1;33m\n",
       "\u001b[0m    \u001b[0mfile\u001b[0m \u001b[1;33m=\u001b[0m \u001b[0mPath\u001b[0m\u001b[1;33m(\u001b[0m\u001b[0m__file__\u001b[0m\u001b[1;33m)\u001b[0m\u001b[1;33m.\u001b[0m\u001b[0mparent\u001b[0m \u001b[1;33m/\u001b[0m \u001b[1;34m\"example_data\"\u001b[0m \u001b[1;33m/\u001b[0m \u001b[0mexample\u001b[0m\u001b[1;33m\n",
       "\u001b[0m    \u001b[1;32mreturn\u001b[0m \u001b[0mload_data\u001b[0m\u001b[1;33m(\u001b[0m\u001b[0mfile\u001b[0m\u001b[1;33m=\u001b[0m\u001b[0mfile\u001b[0m\u001b[1;33m,\u001b[0m \u001b[0mlocation\u001b[0m\u001b[1;33m=\u001b[0m\u001b[0mlocation\u001b[0m\u001b[1;33m)\u001b[0m\u001b[1;33m\u001b[0m\u001b[1;33m\u001b[0m\u001b[0m\n",
       "\u001b[1;31mFile:\u001b[0m      c:\\users\\chsta\\documents\\github\\arpes\\arpes\\io.py\n",
       "\u001b[1;31mType:\u001b[0m      function\n"
      ]
     },
     "metadata": {},
     "output_type": "display_data"
    }
   ],
   "source": [
    "from arpes.io import load_example_data\n",
    "\n",
    "# Let's look at the full source code for `load_example_data`\n",
    "load_example_data??"
   ]
  },
  {
   "cell_type": "markdown",
   "id": "bd2b0428-3286-4476-846e-9bc005c50035",
   "metadata": {},
   "source": [
    "You can also use the `help` function to get a terse form of this info."
   ]
  },
  {
   "cell_type": "code",
   "execution_count": 27,
   "id": "b60ce7fa-0f77-45c6-be13-0992b40525c2",
   "metadata": {},
   "outputs": [
    {
     "name": "stdout",
     "output_type": "stream",
     "text": [
      "Help on function pprint in module pprint:\n",
      "\n",
      "pprint(object, stream=None, indent=1, width=80, depth=None, *, compact=False, sort_dicts=True)\n",
      "    Pretty-print a Python object to a stream [default is sys.stdout].\n",
      "\n"
     ]
    }
   ],
   "source": [
    "help(pprint.pprint)"
   ]
  },
  {
   "cell_type": "markdown",
   "id": "7a5de674-ba81-4725-8906-2c2d151c8d8d",
   "metadata": {},
   "source": [
    "## Best Practices\n",
    "'\n",
    "Try to keep your analysis notebooks short and ensure it's possible to run them top to bottom in a reproducible way.\n",
    "\n",
    "One way to make sure this is possible is to use a module stored alongside your code which contains common routines or snippets used in a particular project or analysis.\n",
    "\n",
    "In general, sharing code is better than sharing data between notebooks, because it prevents stale dependencies between parts of your analysis.\n",
    "\n",
    "A given notebook should have limited scope, ideally to generate a single or a few related figures. If your notebook is getting too long, split it up by using \"Save As\" and deleting relevant cells from each.\n",
    "\n",
    "## Maintaining Records of Results\n",
    "\n",
    "It's painful to go searching through your notebooks for records of your analysis products. It's probably a good idea to store these out-of-band in a separate piece of software (PowerPoint, Notion, or pencil and paper) so that you can summarize and cross reference. Make sure to annotate which notebooks results came from, however!"
   ]
  },
  {
   "cell_type": "markdown",
   "id": "2adcf02b-a228-44d5-aab9-20fd9f2d5145",
   "metadata": {},
   "source": [
    "## Exercises\n",
    "\n",
    "1. Look at the Jupyter documentation (https://jupyter.org/documentation) to learn more about either JupyterLab or Jupyter Notebook, depending on which you use.\n",
    "2. Import `numpy.random.random_sample`, get documentation with `?` and use it to determine how to make a 20 by 20 array of random numbers. What distribution are they drawn from?\n",
    "3. Plot the distribution of numbers from the previous cell using the `ndarray` method `ravel` and `matplotlib.pyplot.hist`. Use the documentation to determine how to call them. **Hint**: If `arr` is an array, you can get documentation for `.ravel` by using `arr.ravel?`.\n",
    "4. Make a new cell and run `?`. What gets outputted?"
   ]
  }
 ],
 "metadata": {
  "kernelspec": {
   "display_name": "arpes-verify-2",
   "language": "python",
   "name": "arpes-verify-2"
  },
  "language_info": {
   "codemirror_mode": {
    "name": "ipython",
    "version": 3
   },
   "file_extension": ".py",
   "mimetype": "text/x-python",
   "name": "python",
   "nbconvert_exporter": "python",
   "pygments_lexer": "ipython3",
   "version": "3.8.8"
  }
 },
 "nbformat": 4,
 "nbformat_minor": 5
}
